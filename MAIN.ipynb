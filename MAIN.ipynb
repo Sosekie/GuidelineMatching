{
 "cells": [
  {
   "cell_type": "code",
   "execution_count": 6,
   "metadata": {},
   "outputs": [
    {
     "name": "stdout",
     "output_type": "stream",
     "text": [
      "Generating embeddings...\n"
     ]
    },
    {
     "name": "stderr",
     "output_type": "stream",
     "text": [
      "Batches: 100%|██████████| 23/23 [00:00<00:00, 158.27it/s]\n",
      "Batches: 100%|██████████| 3/3 [00:00<00:00, 119.90it/s]"
     ]
    },
    {
     "name": "stdout",
     "output_type": "stream",
     "text": [
      "Embeddings saved to cache.\n",
      "Length of guideline_embeddings   : 79\n",
      "Length of requirement_embeddings : 734\n",
      "Performing semantic search...\n"
     ]
    },
    {
     "name": "stderr",
     "output_type": "stream",
     "text": [
      "\n"
     ]
    },
    {
     "name": "stdout",
     "output_type": "stream",
     "text": [
      "Semantic search completed in 0.23 seconds.\n",
      "Results saved to 'result/Pipeline_1.csv'.\n"
     ]
    }
   ],
   "source": [
    "from pipeline.pipeline_1 import run_pipeline_1\n",
    "\n",
    "def main():\n",
    "    # Define file paths\n",
    "    file_path_excel = \"2024-09-27_Food_Waren-und_Dienstleistungsgruppe_V_4.0.xlsx\"\n",
    "    file_paths_csv = [\n",
    "        \"DATA/1_Harmonisiert_pflichtenheft.csv\",\n",
    "        \"DATA/2_Harmonisiert_pflichtenheft.csv\",\n",
    "        \"DATA/4_Harmonisiert_ausschreibung.csv\"\n",
    "    ]\n",
    "    embedding_cache_path = \"embedding/Pipeline_1_embeddings_cache.pkl\"\n",
    "    result_path = \"result/Pipeline_1.csv\"\n",
    "\n",
    "    # Set hyperparameters\n",
    "    top_k = 10  # Number of top matches to retrieve\n",
    "\n",
    "    # Run Pipeline 1\n",
    "    run_pipeline_1(file_path_excel, file_paths_csv, embedding_cache_path, result_path, top_k=top_k)\n",
    "\n",
    "\n",
    "if __name__ == \"__main__\":\n",
    "    main()\n"
   ]
  },
  {
   "cell_type": "code",
   "execution_count": 7,
   "metadata": {},
   "outputs": [
    {
     "name": "stderr",
     "output_type": "stream",
     "text": [
      "huggingface/tokenizers: The current process just got forked, after parallelism has already been used. Disabling parallelism to avoid deadlocks...\n",
      "To disable this warning, you can either:\n",
      "\t- Avoid using `tokenizers` before the fork if possible\n",
      "\t- Explicitly set the environment variable TOKENIZERS_PARALLELISM=(true | false)\n"
     ]
    },
    {
     "name": "stdout",
     "output_type": "stream",
     "text": [
      "Generating embeddings...\n"
     ]
    },
    {
     "name": "stderr",
     "output_type": "stream",
     "text": [
      "Batches: 100%|██████████| 23/23 [00:00<00:00, 53.10it/s]\n"
     ]
    },
    {
     "name": "stdout",
     "output_type": "stream",
     "text": [
      "Embeddings saved to cache.\n",
      "Performing Bi-Encoder retrieval...\n"
     ]
    },
    {
     "name": "stderr",
     "output_type": "stream",
     "text": [
      "Batches: 100%|██████████| 3/3 [00:00<00:00, 85.08it/s]\n"
     ]
    },
    {
     "name": "stdout",
     "output_type": "stream",
     "text": [
      "Bi-Encoder retrieval completed in 0.04 seconds.\n",
      "Performing Cross-Encoder reranking...\n",
      "Cross-Encoder reranking completed in 1.65 seconds.\n",
      "Results saved to 'result/Pipeline_2.csv'.\n"
     ]
    }
   ],
   "source": [
    "from pipeline.pipeline_2 import run_pipeline_2\n",
    "\n",
    "def main():\n",
    "    # Define file paths\n",
    "    file_path_excel = \"2024-09-27_Food_Waren-und_Dienstleistungsgruppe_V_4.0.xlsx\"\n",
    "    file_paths_csv = [\n",
    "        \"DATA/1_Harmonisiert_pflichtenheft.csv\",\n",
    "        \"DATA/2_Harmonisiert_pflichtenheft.csv\",\n",
    "        \"DATA/4_Harmonisiert_ausschreibung.csv\"\n",
    "    ]\n",
    "    embedding_cache_path = \"embedding/Pipeline_2_embeddings_cache.pkl\"\n",
    "    result_path = \"result/Pipeline_2.csv\"\n",
    "\n",
    "    # Set hyperparameters\n",
    "    top_k = 10  # Number of top reranked matches to retrieve\n",
    "    bi_top_k = 32  # Number of top Bi-Encoder matches before reranking\n",
    "\n",
    "    # Run Pipeline 2\n",
    "    run_pipeline_2(file_path_excel, file_paths_csv, embedding_cache_path, result_path, top_k=top_k, bi_top_k=bi_top_k)\n",
    "\n",
    "\n",
    "if __name__ == \"__main__\":\n",
    "    main()"
   ]
  },
  {
   "cell_type": "code",
   "execution_count": 2,
   "metadata": {},
   "outputs": [
    {
     "name": "stdout",
     "output_type": "stream",
     "text": [
      "Performing GPT-based semantic search...\n",
      "Processing guideline: TS Das Angebot umfasst eine attraktive Auswahl zur...\n",
      "Processing guideline: TS Mindestens ein vegetarisches oder veganes Geric...\n",
      "Processing guideline: TS Mindestens 50% des Tagesangebots sind vegetaris...\n",
      "Processing guideline: ZK Mindestens 50% des Tagesangebots sind vegetaris...\n",
      "Processing guideline: TS Mindestens 1 Tag in der Woche ist 100% vegetari...\n",
      "Processing guideline: ZK Mindestens 1 Tag in der Woche ist 100% vegetari...\n",
      "Processing guideline: TS Höchstens 120g Fleisch werden pro Gericht servi...\n",
      "Processing guideline: ZK Höchstens 120g Fleisch werden pro Gericht servi...\n",
      "Processing guideline: TS Höchstens 4 Gerichte im Monat enthalten Fisch....\n",
      "Processing guideline: ZK Höchstens 4 Gerichte im Monat enthalten Fisch....\n",
      "Processing guideline: TS 100% der vegetarischen und veganen Gerichte sin...\n",
      "Processing guideline: TS Während mindestens zwei aufeinanderfolgenden Wo...\n",
      "Processing guideline: ZK Während mindestens zwei aufeinanderfolgenden Wo...\n",
      "Processing guideline: TS Mindestens eine Massnahme wird eingeführt, um R...\n",
      "Processing guideline: TS Keine Teller werden zu Demonstrationszwecken an...\n",
      "Processing guideline: TS Alle kompostierbaren Lebensmittelabfälle werden...\n",
      "Processing guideline: TS Die Bieter müssen über schriftliche Verfahren v...\n",
      "Processing guideline: TS Der Bieter muss einen Plan umsetzen, um die Ent...\n",
      "Processing guideline: TS Mindestens 10% des Gesamtgewichts aller Lebensm...\n",
      "Processing guideline: ZK Mindestens 10% des Gesamtgewichts aller Lebensm...\n",
      "Processing guideline: TS % des Gesamtgewichts von Geflügel (einschließli...\n",
      "Processing guideline: ZK Mindestens X% des Gesamtgewichts des Geflügels ...\n",
      "Processing guideline: ZK Mindestens X% des Gesamtgewichts der Fische aus...\n",
      "Processing guideline: ZK Mindestens X% des Gesamtgewichts der exotischen...\n",
      "Processing guideline: ZK Mindestens X% des Gesamtgewichts von Rind- und ...\n",
      "Processing guideline: ZK Mindestens X% des Gesamtgewichts von Schweinefl...\n",
      "Processing guideline: ZK 100 % des Gesamtgewichts der gekauften Milch mü...\n",
      "Processing guideline: ZK Mindestens X% des Gesamtgewichts des Pferdeflei...\n",
      "Processing guideline: ZK Mindestens X% des Gesamtgewichts des Kaninchenf...\n",
      "Processing guideline: TB Der Lieferant füllt eine Erklärung aus, mit der...\n",
      "Processing guideline: TS Verkaufsautomaten: TS 2.1. Wenn vorverpackte Le...\n",
      "Processing guideline: TS 100% des Gesamtgewichts der verzehrten Arten an...\n",
      "Processing guideline: ZK 100% des Gesamtgewichts der verzehrten Arten an...\n",
      "Processing guideline: TS Maximal 4 Gerichte pro Monat enthalten Fisch od...\n",
      "Processing guideline: ZK Maximal 4 Gerichte pro Monat enthalten Fisch od...\n",
      "Processing guideline: ZK Mindestens X% des Gesamtgewichts der Fische und...\n",
      "Processing guideline: ZK Mindestens X% des Gesamtgewichts der verzehrten...\n",
      "Processing guideline: TS Mindestens 70% des Gesamtgewichts der frischen ...\n",
      "Processing guideline: ZK Mindestens 70% des Gesamtgewichts der frischen ...\n",
      "Processing guideline: ZK Mindestens X% des Gesamtgewichts der frischen O...\n",
      "Processing guideline: Mindestens X% des Gesamtgewichtes aller landwirtsc...\n",
      "Processing guideline: TS Höchstens 1% des Gesamtgewichts aller Lebensmit...\n",
      "Processing guideline: ZK Höchstens 1% des Gesamtgewichts aller Lebensmit...\n",
      "Processing guideline: TS Die Herkunft von 100% des Gesamtgewichts des se...\n",
      "Processing guideline: ZK Mindestens X% des Gesamtgewichtes der Produkte ...\n",
      "Processing guideline: TS Die Eiweissquellen sind vielfältig und entsprec...\n",
      "Processing guideline: TS Die Mehrheit der Gerichte entspricht folgender ...\n",
      "Processing guideline: TS Leitungswasser ist gratis und leicht verfügbar ...\n",
      "Processing guideline: TS Die verwendeten Fette haben einen guten Nährwer...\n",
      "Processing guideline: TS Das Servicepersonal ist informiert und kann die...\n",
      "Processing guideline: TS Die Konsumenten werden direkt mittels einer pas...\n",
      "Processing guideline: TS Die Etiketten der Take-away-Speisen listen die ...\n",
      "Processing guideline: TS Der Gastronomiepartner und/oder das Küchenperso...\n",
      "Processing guideline: TS SC1. Bieterkompetenzen\n",
      "Die Bieter müssen in jed...\n",
      "Processing guideline: ZK «SMART»-Nachhaltigkeitsziele wurden festgelegt ...\n",
      "Processing guideline: ZK Kommunikationsmassnahmen werden regelmässig umg...\n",
      "Processing guideline: TS Bei der Renovation oder beim Bau einer neuen Kü...\n",
      "Processing guideline: ZK Es wird ein Energie- und Wasserbewirtschaftungs...\n",
      "Processing guideline: TS Alle neuen Geräte erfüllen die von Topten.ch fe...\n",
      "Processing guideline: ZK Alle neuen Kühl- und Gefriergeräte sowie Verkau...\n",
      "Processing guideline: TS TS 6. Bewährte Verfahren zur Verringerung des E...\n",
      "Processing guideline: TS TS3. Intelligente Steuerungen (Vekaufsautomaten...\n",
      "Processing guideline: ZK AC3. Jährlicher Energieverbrauch (Verkaufsautom...\n",
      "Processing guideline: ZK Mindestens X% der Gesamtzahl der Reinigungsmitt...\n",
      "Processing guideline: TS Die folgenden Produkte werden nicht verwendet: ...\n",
      "Processing guideline: TS Es werden keine Einwegstrohhalme und -rührstäbc...\n",
      "Processing guideline: TS Es werden weder Einwegbehälter noch Einwegbeste...\n",
      "Processing guideline: ZK Für Take-Away stehen wiederverwendbare Behälter...\n",
      "Processing guideline: ZK Unvermeidbare Einwegbehälter werden hauptsächli...\n",
      "Processing guideline: TS TS 4.2. Abfalltrennung und -entsorgung (Verpfle...\n",
      "Processing guideline: TS TS4. Mehrwegbecher (Verkaufsautomaten)\n",
      "Hinweis:...\n",
      "Processing guideline: ZK Wann immer möglich, alternative Transportmittel...\n",
      "Processing guideline: TS Alle schweren und leichten Benzinfahrzeuge erfü...\n",
      "Processing guideline: ZK Alle schweren und leichten Benzinfahrzeuge erfü...\n",
      "Processing guideline: TS TS.7 Lebensmitteltransport (Verpflegungsdienstl...\n",
      "Processing guideline: ZK TS.7 Lebensmitteltransport (Verpflegungsdienstl...\n",
      "Processing guideline: Anbietende, die im Ausland ihre Leistung erbringen...\n",
      "Processing guideline: Das Unterschreiben einer Selbstdeklaration durch d...\n",
      "Processing guideline: In jedem Fall oder vor allem, wenn ein Risiko best...\n",
      "GPT-based semantic search completed in 623.53 seconds.\n",
      "Results saved to 'result/Baseline.csv'.\n"
     ]
    }
   ],
   "source": [
    "from pipeline.baseline import run_baseline\n",
    "\n",
    "def main():\n",
    "    # Define file paths\n",
    "    file_path_excel = \"2024-09-27_Food_Waren-und_Dienstleistungsgruppe_V_4.0.xlsx\"\n",
    "    file_paths_csv = [\n",
    "        \"DATA/1_Harmonisiert_pflichtenheft.csv\",\n",
    "        \"DATA/2_Harmonisiert_pflichtenheft.csv\",\n",
    "        \"DATA/4_Harmonisiert_ausschreibung.csv\"\n",
    "    ]\n",
    "    result_path = \"result/Baseline.csv\"\n",
    "\n",
    "    # Set hyperparameters\n",
    "    model_name = \"gpt-4o-mini\"  # Specify GPT model\n",
    "    top_k = 10  # Number of top matches to retrieve\n",
    "\n",
    "    # Run Baseline Pipeline\n",
    "    run_baseline(file_path_excel, file_paths_csv, result_path, model_name=model_name, top_k=top_k)\n",
    "\n",
    "\n",
    "if __name__ == \"__main__\":\n",
    "    main()"
   ]
  }
 ],
 "metadata": {
  "kernelspec": {
   "display_name": "gm",
   "language": "python",
   "name": "python3"
  },
  "language_info": {
   "codemirror_mode": {
    "name": "ipython",
    "version": 3
   },
   "file_extension": ".py",
   "mimetype": "text/x-python",
   "name": "python",
   "nbconvert_exporter": "python",
   "pygments_lexer": "ipython3",
   "version": "3.10.0"
  }
 },
 "nbformat": 4,
 "nbformat_minor": 2
}
