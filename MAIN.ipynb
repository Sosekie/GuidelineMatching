{
 "cells": [
  {
   "cell_type": "markdown",
   "metadata": {},
   "source": [
    "## Baseline"
   ]
  },
  {
   "cell_type": "code",
   "execution_count": null,
   "metadata": {},
   "outputs": [],
   "source": [
    "from pipeline.baseline import run_baseline, process_csv_to_numpy\n",
    "\n",
    "def main():\n",
    "    file_path_excel = \"2024-09-27_Food_Waren-und_Dienstleistungsgruppe_V_4.0.xlsx\"\n",
    "    file_paths_csv = \"grouped_result.csv\"\n",
    "    result_csv_path = \"result/discrete_scores.csv\"\n",
    "    model_name = \"gpt-3.5-turbo\"\n",
    "\n",
    "    run_baseline(file_path_excel, file_paths_csv, result_csv_path, model_name)\n",
    "\n",
    "if __name__ == \"__main__\":\n",
    "    # main()\n",
    "\n",
    "    # Path to the input CSV file\n",
    "    input_csv_path = \"result/discrete_scores.csv\"  # Replace with your actual CSV file path\n",
    "\n",
    "    # Path to save the resulting numpy file\n",
    "    output_numpy_path = \"result/p0_matching_matrix.npy\"  # Replace with your desired output path\n",
    "\n",
    "    # Process the CSV and save to numpy file\n",
    "    process_csv_to_numpy(input_csv_path, output_numpy_path)"
   ]
  },
  {
   "cell_type": "markdown",
   "metadata": {},
   "source": [
    "## Pipeline 1"
   ]
  },
  {
   "cell_type": "code",
   "execution_count": null,
   "metadata": {},
   "outputs": [],
   "source": [
    "from pipeline.pipeline_1 import run_pipeline_1\n",
    "\n",
    "def main():\n",
    "    # Define file paths\n",
    "    file_path_excel = \"2024-09-27_Food_Waren-und_Dienstleistungsgruppe_V_4.0.xlsx\"\n",
    "    file_paths_csv = \"grouped_result.csv\"\n",
    "    result_path = \"result/p1_matching_matrix.npy\"\n",
    "    embedding_cache_path = \"embedding/Pipeline_1_embeddings_cache.pkl\"\n",
    "\n",
    "    # Run Pipeline 1\n",
    "    run_pipeline_1(file_path_excel, file_paths_csv, embedding_cache_path, result_path)\n",
    "\n",
    "\n",
    "if __name__ == \"__main__\":\n",
    "    main()\n"
   ]
  },
  {
   "cell_type": "markdown",
   "metadata": {},
   "source": [
    "## Pipeline 2"
   ]
  },
  {
   "cell_type": "code",
   "execution_count": null,
   "metadata": {},
   "outputs": [],
   "source": [
    "from pipeline.pipeline_2 import run_pipeline_2\n",
    "\n",
    "def main():\n",
    "    # Define file paths\n",
    "    file_path_excel = \"2024-09-27_Food_Waren-und_Dienstleistungsgruppe_V_4.0.xlsx\"\n",
    "    file_paths_csv = \"grouped_result.csv\"\n",
    "    embedding_cache_path = \"embedding/Pipeline_2_embeddings_cache.pkl\"\n",
    "    result_path = \"result/p2_matching_matrix.npy\"\n",
    "\n",
    "    # Set hyperparameters\n",
    "    top_k = 20  # Number of top reranked matches to retrieve\n",
    "    bi_top_k = 40  # Number of top Bi-Encoder matches before reranking\n",
    "\n",
    "    # Run Pipeline 2\n",
    "    run_pipeline_2(file_path_excel, file_paths_csv, embedding_cache_path, result_path, top_k=top_k, bi_top_k=bi_top_k)\n",
    "\n",
    "\n",
    "if __name__ == \"__main__\":\n",
    "    main()"
   ]
  },
  {
   "cell_type": "markdown",
   "metadata": {},
   "source": [
    "## Pipeline 3"
   ]
  },
  {
   "cell_type": "code",
   "execution_count": null,
   "metadata": {},
   "outputs": [],
   "source": [
    "from pipeline.pipeline_3 import run_pipeline_3\n",
    "import nest_asyncio\n",
    "\n",
    "# 允许嵌套事件循环\n",
    "nest_asyncio.apply()\n",
    "\n",
    "def main():\n",
    "    # Define file paths\n",
    "    file_path_excel = \"2024-09-27_Food_Waren-und_Dienstleistungsgruppe_V_4.0.xlsx\"\n",
    "    file_paths_csv = \"grouped_result.csv\"\n",
    "    result_path = \"result/p3_matching_matrix.npy\"\n",
    "    embedding_cache_path = \"embedding/Pipeline_3_embeddings_cache.pkl\"\n",
    "\n",
    "    # Set hyperparameters\n",
    "    model_name = \"gpt-4o-mini\"  # Specify GPT model\n",
    "\n",
    "    # Run Baseline Pipeline\n",
    "    run_pipeline_3(file_path_excel, file_paths_csv, embedding_cache_path, result_path, gpt_model_name=model_name)\n",
    "\n",
    "\n",
    "if __name__ == \"__main__\":\n",
    "    main()"
   ]
  },
  {
   "cell_type": "markdown",
   "metadata": {},
   "source": [
    "# Evaluation"
   ]
  },
  {
   "cell_type": "code",
   "execution_count": null,
   "metadata": {},
   "outputs": [
    {
     "name": "stdout",
     "output_type": "stream",
     "text": [
      "===== Pipeline p0 =====\n",
      "Unrelated Accuracy: 0.500±0.000\n",
      "Recall@K:          0.046±0.023\n",
      "F Accuracy:        0.511±0.021\n",
      "\n",
      "===== Pipeline p1 =====\n",
      "Unrelated Accuracy: 0.500±0.000\n",
      "Recall@K:          0.527±0.000\n",
      "F Accuracy:        0.550±0.000\n",
      "\n",
      "===== Pipeline p2 =====\n",
      "Unrelated Accuracy: 0.000±0.000\n",
      "Recall@K:          0.083±0.000\n",
      "F Accuracy:        0.383±0.000\n",
      "\n",
      "===== Pipeline p3 =====\n",
      "Unrelated Accuracy: 0.722±0.028\n",
      "Recall@K:          0.340±0.069\n",
      "F Accuracy:        0.572±0.016\n",
      "\n",
      "===== Pipeline p4 =====\n",
      "Unrelated Accuracy: 0.589±0.061\n",
      "Recall@K:          0.202±0.153\n",
      "F Accuracy:        0.567±0.036\n",
      "\n",
      "===== Pipeline p5 =====\n",
      "Unrelated Accuracy: 0.617±0.083\n",
      "Recall@K:          0.098±0.060\n",
      "F Accuracy:        0.539±0.028\n",
      "\n"
     ]
    },
    {
     "name": "stderr",
     "output_type": "stream",
     "text": [
      "/home/fcr/.local/lib/python3.10/site-packages/scipy/stats/_axis_nan_policy.py:573: ConstantInputWarning: Each of the input arrays is constant; the F statistic is not defined or infinite\n",
      "  res = hypotest_fun_out(*samples, **kwds)\n"
     ]
    }
   ],
   "source": [
    "from pipeline.evaluate import recall_k, unrelated_acc, f_distribution_detection\n",
    "import numpy as np\n",
    "import statistics\n",
    "\n",
    "# 目标矩阵路径\n",
    "target_matrix_path = 'matched_table.csv'\n",
    "full_target_matrix = np.loadtxt(target_matrix_path, delimiter=\",\", dtype=int)\n",
    "target_matrix_60 = full_target_matrix[:60]  # 截取前 60 行\n",
    "\n",
    "for i in range(6):\n",
    "    # 这三个列表分别用于存储 p{i} 的三次重复实验所得的指标\n",
    "    unrelated_scores = []\n",
    "    recall_scores = []\n",
    "    f_accuracies = []\n",
    "\n",
    "    for rep in range(1, 4):\n",
    "        # 读取 p{i}_matching_matrix_{rep}.npy\n",
    "        predicted_matrix_path = f\"result/p{i}_matching_matrix_{rep}.npy\"\n",
    "        predicted_matrix = np.load(predicted_matrix_path)\n",
    "\n",
    "        # 同样截取前 60 行\n",
    "        predicted_matrix_60 = predicted_matrix[:60]\n",
    "\n",
    "        # 计算指标\n",
    "        unrelated_score = unrelated_acc(predicted_matrix_60)\n",
    "        recall_score = recall_k(predicted_matrix_60, target_matrix_60)\n",
    "        f_accuracy = f_distribution_detection(predicted_matrix_60, target_matrix_60, alpha=0.05)\n",
    "\n",
    "        unrelated_scores.append(unrelated_score)\n",
    "        recall_scores.append(recall_score)\n",
    "        f_accuracies.append(f_accuracy)\n",
    "    \n",
    "    # 计算三次重复实验的均值和标准差\n",
    "    mean_unrelated = statistics.mean(unrelated_scores)\n",
    "    std_unrelated = statistics.pstdev(unrelated_scores)\n",
    "    \n",
    "    mean_recall = statistics.mean(recall_scores)\n",
    "    std_recall = statistics.pstdev(recall_scores)\n",
    "    \n",
    "    mean_f = statistics.mean(f_accuracies)\n",
    "    std_f = statistics.pstdev(f_accuracies)\n",
    "\n",
    "    # 打印结果，格式如 2066.009±15.907\n",
    "    print(f\"===== Pipeline p{i} =====\")\n",
    "    # print(f\"Unrelated Accuracy: {mean_unrelated:.3f}±{std_unrelated:.3f}\")\n",
    "    print(f\"Recall@K:          {mean_recall:.3f}±{std_recall:.3f}\")\n",
    "    print(f\"F Accuracy:        {mean_f:.3f}±{std_f:.3f}\\n\")\n"
   ]
  }
 ],
 "metadata": {
  "kernelspec": {
   "display_name": "gm",
   "language": "python",
   "name": "python3"
  },
  "language_info": {
   "codemirror_mode": {
    "name": "ipython",
    "version": 3
   },
   "file_extension": ".py",
   "mimetype": "text/x-python",
   "name": "python",
   "nbconvert_exporter": "python",
   "pygments_lexer": "ipython3",
   "version": "3.10.0"
  }
 },
 "nbformat": 4,
 "nbformat_minor": 2
}
