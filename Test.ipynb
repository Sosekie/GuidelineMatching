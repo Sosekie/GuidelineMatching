{
 "cells": [
  {
   "cell_type": "code",
   "execution_count": 1,
   "metadata": {
    "id": "vzoYMFt7AXig"
   },
   "outputs": [],
   "source": [
    "%%capture\n",
    "# !pip install dkpro-cassis pdfplumber PyMuPDF stanza"
   ]
  },
  {
   "cell_type": "code",
   "execution_count": 2,
   "metadata": {
    "id": "m4K3pJJzAVcF"
   },
   "outputs": [],
   "source": [
    "# !pip install torch tensorflow sentencepiece transformers\n"
   ]
  },
  {
   "cell_type": "markdown",
   "metadata": {},
   "source": [
    "This can be used as A global function to extract both the exel data and the pdfs using the csv files \n"
   ]
  },
  {
   "cell_type": "code",
   "execution_count": 3,
   "metadata": {
    "id": "5cKMeECvBUlg"
   },
   "outputs": [],
   "source": [
    "import pandas as pd\n",
    "\n",
    "file_path_excel = \"2024-09-27_Food_Waren-und_Dienstleistungsgruppe_V_4.0.xlsx\"\n",
    "data_id = pd.read_excel(file_path_excel, usecols=[\"Kriterium-ID\"])[\"Kriterium-ID\"].tolist()\n",
    "data = pd.read_excel(file_path_excel, usecols=[\"Kategorie Kriterium\", \"Ausschreibungskriterium\"])\n",
    "texts = data.apply(lambda row: \" \".join(row.dropna().astype(str)), axis=1).tolist()\n",
    "# Step 2: Load sentences from CSV if provided\n",
    "\n",
    "\n",
    "# File paths\n",
    "file_paths = [\n",
    "    \"DATA/1_Harmonisiert_pflichtenheft.csv\",\n",
    "    \"DATA/2_Harmonisiert_pflichtenheft.csv\",\n",
    "    \"DATA/4_Harmonisiert_ausschreibung.csv\"\n",
    "]\n",
    "\n",
    "# Load and combine all CSV files into a single DataFrame\n",
    "dataframes = [pd.read_csv(file_path) for file_path in file_paths]\n",
    "combined_df = pd.concat(dataframes, ignore_index=True)\n",
    "\n",
    "# Extract sentences\n",
    "sentences = combined_df[\"text\"].tolist()"
   ]
  },
  {
   "cell_type": "markdown",
   "metadata": {},
   "source": [
    "This is an example of how to use these data and an example of NLI method as well "
   ]
  },
  {
   "cell_type": "code",
   "execution_count": null,
   "metadata": {
    "colab": {
     "base_uri": "https://localhost:8080/"
    },
    "id": "pCvT8ielDTQa",
    "outputId": "07a5f26c-2fdd-4851-b5bb-db99353419ba"
   },
   "outputs": [
    {
     "name": "stderr",
     "output_type": "stream",
     "text": [
      "/home/fcr/.local/lib/python3.10/site-packages/tqdm/auto.py:21: TqdmWarning: IProgress not found. Please update jupyter and ipywidgets. See https://ipywidgets.readthedocs.io/en/stable/user_install.html\n",
      "  from .autonotebook import tqdm as notebook_tqdm\n",
      "2024-12-08 20:56:27.374062: I tensorflow/core/util/port.cc:153] oneDNN custom operations are on. You may see slightly different numerical results due to floating-point round-off errors from different computation orders. To turn them off, set the environment variable `TF_ENABLE_ONEDNN_OPTS=0`.\n",
      "2024-12-08 20:56:27.380708: E external/local_xla/xla/stream_executor/cuda/cuda_fft.cc:477] Unable to register cuFFT factory: Attempting to register factory for plugin cuFFT when one has already been registered\n",
      "WARNING: All log messages before absl::InitializeLog() is called are written to STDERR\n",
      "E0000 00:00:1733687787.388850   84793 cuda_dnn.cc:8310] Unable to register cuDNN factory: Attempting to register factory for plugin cuDNN when one has already been registered\n",
      "E0000 00:00:1733687787.391251   84793 cuda_blas.cc:1418] Unable to register cuBLAS factory: Attempting to register factory for plugin cuBLAS when one has already been registered\n",
      "2024-12-08 20:56:27.400115: I tensorflow/core/platform/cpu_feature_guard.cc:210] This TensorFlow binary is optimized to use available CPU instructions in performance-critical operations.\n",
      "To enable the following instructions: AVX2 AVX_VNNI FMA, in other operations, rebuild TensorFlow with the appropriate compiler flags.\n",
      "Device set to use cuda:0\n",
      "You seem to be using the pipelines sequentially on GPU. In order to maximize efficiency please use a dataset\n"
     ]
    },
    {
     "name": "stdout",
     "output_type": "stream",
     "text": [
      "Computed similarity scores for 25 sentence-text pairs.\n",
      "Extracted top 20% matches for each sentence.\n",
      "Top 20% matches saved to 'top_20_percent_matches.csv'.\n"
     ]
    },
    {
     "name": "stderr",
     "output_type": "stream",
     "text": [
      "/tmp/ipykernel_84793/2099341049.py:24: DeprecationWarning: DataFrameGroupBy.apply operated on the grouping columns. This behavior is deprecated, and in a future version of pandas the grouping columns will be excluded from the operation. Either pass `include_groups=False` to exclude the groupings or explicitly select the grouping columns after groupby to silence this warning.\n",
      "  top_20_percent = results_df.groupby(\"sentence\").apply(\n"
     ]
    }
   ],
   "source": [
    "import pandas as pd\n",
    "from transformers import pipeline\n",
    "\n",
    "# Load German NLI model\n",
    "nli_pipeline = pipeline(\n",
    "    \"zero-shot-classification\",\n",
    "    model=\"MoritzLaurer/mDeBERTa-v3-base-mnli-xnli\"\n",
    ")\n",
    "results = []\n",
    "for text_index, text in enumerate(texts[:5]):\n",
    "    for sentence in sentences[:5]:  # Limit to the first 5 sentences\n",
    "        # Run NLI for the sentence against the current text\n",
    "        result = nli_pipeline(sentence, [text], multi_label=True)\n",
    "        score = result[\"scores\"][0]  # Extract score for the single label\n",
    "        results.append({\"sentence\": sentence, \"text_index\": text_index, \"text\": text, \"score\": score})\n",
    "print(f\"Computed similarity scores for {len(results)} sentence-text pairs.\")\n",
    "\n",
    "# Step 4: Create a DataFrame from the results\n",
    "results_df = pd.DataFrame(results)\n",
    "\n",
    "# Step 5: Extract the top 20% matches for each sentence\n",
    "top_20_percent = results_df.groupby(\"sentence\").apply(\n",
    "    lambda group: group.nlargest(max(1, len(group) // 5), \"score\")\n",
    ").reset_index(drop=True)\n",
    "\n",
    "print(f\"Extracted top 20% matches for each sentence.\")\n",
    "\n",
    "# Step 6: Save the results to a CSV file\n",
    "output_file = \"top_20_percent_matches.csv\"\n",
    "top_20_percent.to_csv(output_file, index=False)\n",
    "print(f\"Top 20% matches saved to '{output_file}'.\")"
   ]
  },
  {
   "cell_type": "code",
   "execution_count": 6,
   "metadata": {
    "colab": {
     "base_uri": "https://localhost:8080/"
    },
    "id": "sRkZunNVHz6X",
    "outputId": "fd4b87e8-5f87-4fdc-dd22-659b2f8955f3"
   },
   "outputs": [
    {
     "name": "stdout",
     "output_type": "stream",
     "text": [
      "                                            sentence  text_index  \\\n",
      "0  4 Verordnung über das öffentliche Beschaffungs...           1   \n",
      "1  BSG 731.21) Wichtig Die Implementierung des Re...           1   \n",
      "2  Der politische Prozess hat gezeigt, dass sowoh...           0   \n",
      "3  Deshalb wird dieses Geschäft «unter Vorbehalt»...           3   \n",
      "4  Öffentliche Submission Gesunde Ernährung «Kalt...           0   \n",
      "\n",
      "                                                text     score  \n",
      "0  TS Mindestens ein vegetarisches oder veganes G...  0.522896  \n",
      "1  TS Mindestens ein vegetarisches oder veganes G...  0.470789  \n",
      "2  TS Das Angebot umfasst eine attraktive Auswahl...  0.311388  \n",
      "3  ZK Mindestens 50% des Tagesangebots sind veget...  0.311152  \n",
      "4  TS Das Angebot umfasst eine attraktive Auswahl...  0.693403  \n"
     ]
    }
   ],
   "source": [
    "print(top_20_percent)"
   ]
  },
  {
   "cell_type": "code",
   "execution_count": null,
   "metadata": {
    "id": "wW_S4hz_PDrJ"
   },
   "outputs": [],
   "source": []
  }
 ],
 "metadata": {
  "colab": {
   "provenance": []
  },
  "kernelspec": {
   "display_name": "gm",
   "language": "python",
   "name": "python3"
  },
  "language_info": {
   "codemirror_mode": {
    "name": "ipython",
    "version": 3
   },
   "file_extension": ".py",
   "mimetype": "text/x-python",
   "name": "python",
   "nbconvert_exporter": "python",
   "pygments_lexer": "ipython3",
   "version": "3.10.0"
  }
 },
 "nbformat": 4,
 "nbformat_minor": 0
}
